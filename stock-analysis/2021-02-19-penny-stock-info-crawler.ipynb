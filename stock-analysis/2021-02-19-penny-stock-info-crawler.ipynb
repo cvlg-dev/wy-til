{
 "cells": [
  {
   "cell_type": "markdown",
   "id": "floppy-census",
   "metadata": {},
   "source": [
    "### 라이브러리\n",
    "\n",
    "- Finance Datareader\n",
    "    - https://financedata.github.io/posts/finance-data-reader-users-guide.html\n",
    "    \n",
    "- Yfinance\n",
    "    - https://github.com/ranaroussi/yfinance\n",
    "    \n",
    "    \n",
    "### 문제\n",
    "\n",
    "- 너무 느림.\n",
    "\n",
    "\n",
    "### 라이브러리 설치\n",
    "\n",
    "```bash\n",
    "!pip3 install finance-datareader\n",
    "!pip3 install html5lib\n",
    "!pip3 install yfinance\n",
    "```"
   ]
  },
  {
   "cell_type": "code",
   "execution_count": 1,
   "id": "informed-fiber",
   "metadata": {},
   "outputs": [],
   "source": [
    "import numpy as np\n",
    "import pandas as pd\n",
    "\n",
    "import FinanceDataReader as fdr\n",
    "import yfinance as yf\n",
    "\n",
    "import datetime\n",
    "import pytz\n",
    "\n",
    "from tqdm import tqdm"
   ]
  },
  {
   "cell_type": "code",
   "execution_count": 2,
   "id": "floating-holiday",
   "metadata": {},
   "outputs": [],
   "source": [
    "def get_date(days_window):\n",
    "\n",
    "    date_curr = datetime.datetime.now(tz=pytz.timezone('EST'))\n",
    "    str_date_ny_curr = str(date_curr)[:10]\n",
    "    str_date_ny_window = str(date_curr - datetime.timedelta(days=days_window))[:10]\n",
    "    \n",
    "    return str_date_ny_window, str_date_ny_curr"
   ]
  },
  {
   "cell_type": "code",
   "execution_count": 3,
   "id": "equal-sheffield",
   "metadata": {},
   "outputs": [],
   "source": [
    "def get_pennystock_list(target_price, start_date, end_date):\n",
    "\n",
    "    dict_penny_stock = {}\n",
    "\n",
    "    for row in tqdm(nasdaq_df.itertuples()):\n",
    "        symbol = row[1]\n",
    "        try:       \n",
    "            ticker = yf.Ticker(symbol)\n",
    "            data = ticker.history(start=start_date, end=end_date)\n",
    "            avg_price = data['Close'].mean()\n",
    "            if avg_price < target_price:\n",
    "                dict_penny_stock.update({symbol:data.to_dict()})\n",
    "        except (IndexError, ValueError, KeyError) as e:\n",
    "            pass\n",
    "        \n",
    "    return dict_penny_stock"
   ]
  },
  {
   "cell_type": "code",
   "execution_count": 4,
   "id": "alleged-attachment",
   "metadata": {},
   "outputs": [],
   "source": [
    "start_date, end_date = get_date(days_window=5)"
   ]
  },
  {
   "cell_type": "code",
   "execution_count": 5,
   "id": "human-spanish",
   "metadata": {},
   "outputs": [
    {
     "name": "stderr",
     "output_type": "stream",
     "text": [
      "100%|██████████| 3473/3473 [00:04<00:00, 748.32it/s] \n"
     ]
    },
    {
     "data": {
      "text/html": [
       "<div>\n",
       "<style scoped>\n",
       "    .dataframe tbody tr th:only-of-type {\n",
       "        vertical-align: middle;\n",
       "    }\n",
       "\n",
       "    .dataframe tbody tr th {\n",
       "        vertical-align: top;\n",
       "    }\n",
       "\n",
       "    .dataframe thead th {\n",
       "        text-align: right;\n",
       "    }\n",
       "</style>\n",
       "<table border=\"1\" class=\"dataframe\">\n",
       "  <thead>\n",
       "    <tr style=\"text-align: right;\">\n",
       "      <th></th>\n",
       "      <th>Symbol</th>\n",
       "      <th>Name</th>\n",
       "      <th>Industry</th>\n",
       "      <th>IndustryCode</th>\n",
       "    </tr>\n",
       "  </thead>\n",
       "  <tbody>\n",
       "    <tr>\n",
       "      <th>0</th>\n",
       "      <td>AAPL</td>\n",
       "      <td>Apple Inc</td>\n",
       "      <td>컴퓨터, 전화 및 가전제품</td>\n",
       "      <td>571060</td>\n",
       "    </tr>\n",
       "    <tr>\n",
       "      <th>1</th>\n",
       "      <td>MSFT</td>\n",
       "      <td>Microsoft Corp</td>\n",
       "      <td>소프트웨어 및 IT서비스</td>\n",
       "      <td>572010</td>\n",
       "    </tr>\n",
       "    <tr>\n",
       "      <th>2</th>\n",
       "      <td>AMZN</td>\n",
       "      <td>Amazon.com Inc</td>\n",
       "      <td>다양한 소매업</td>\n",
       "      <td>534020</td>\n",
       "    </tr>\n",
       "    <tr>\n",
       "      <th>3</th>\n",
       "      <td>FB</td>\n",
       "      <td>Facebook Inc Class A</td>\n",
       "      <td>소프트웨어 및 IT서비스</td>\n",
       "      <td>572010</td>\n",
       "    </tr>\n",
       "    <tr>\n",
       "      <th>4</th>\n",
       "      <td>TSLA</td>\n",
       "      <td>Tesla Inc</td>\n",
       "      <td>자동차 및 자동차 부품</td>\n",
       "      <td>531010</td>\n",
       "    </tr>\n",
       "    <tr>\n",
       "      <th>...</th>\n",
       "      <td>...</td>\n",
       "      <td>...</td>\n",
       "      <td>...</td>\n",
       "      <td>...</td>\n",
       "    </tr>\n",
       "    <tr>\n",
       "      <th>3468</th>\n",
       "      <td>NVSAU</td>\n",
       "      <td>New Vista Acquisition Corp</td>\n",
       "      <td>기타 금융업</td>\n",
       "      <td>556010</td>\n",
       "    </tr>\n",
       "    <tr>\n",
       "      <th>3469</th>\n",
       "      <td>ABGI</td>\n",
       "      <td>ABG Acquisition I Corp</td>\n",
       "      <td>기타 금융업</td>\n",
       "      <td>556010</td>\n",
       "    </tr>\n",
       "    <tr>\n",
       "      <th>3470</th>\n",
       "      <td>PFDRU</td>\n",
       "      <td>Pathfinder Acquisition Corp</td>\n",
       "      <td>기타 금융업</td>\n",
       "      <td>556010</td>\n",
       "    </tr>\n",
       "    <tr>\n",
       "      <th>3471</th>\n",
       "      <td>VRPX</td>\n",
       "      <td>Virpax Pharmaceuticals Inc</td>\n",
       "      <td>생명과학 및 메디컬 리서치</td>\n",
       "      <td>562020</td>\n",
       "    </tr>\n",
       "    <tr>\n",
       "      <th>3472</th>\n",
       "      <td>SPTKU</td>\n",
       "      <td>SportsTek Acquisition Corp</td>\n",
       "      <td>기타 금융업</td>\n",
       "      <td>556010</td>\n",
       "    </tr>\n",
       "  </tbody>\n",
       "</table>\n",
       "<p>3473 rows × 4 columns</p>\n",
       "</div>"
      ],
      "text/plain": [
       "     Symbol                         Name        Industry IndustryCode\n",
       "0      AAPL                    Apple Inc  컴퓨터, 전화 및 가전제품       571060\n",
       "1      MSFT               Microsoft Corp   소프트웨어 및 IT서비스       572010\n",
       "2      AMZN               Amazon.com Inc         다양한 소매업       534020\n",
       "3        FB         Facebook Inc Class A   소프트웨어 및 IT서비스       572010\n",
       "4      TSLA                    Tesla Inc    자동차 및 자동차 부품       531010\n",
       "...     ...                          ...             ...          ...\n",
       "3468  NVSAU   New Vista Acquisition Corp          기타 금융업       556010\n",
       "3469   ABGI       ABG Acquisition I Corp          기타 금융업       556010\n",
       "3470  PFDRU  Pathfinder Acquisition Corp          기타 금융업       556010\n",
       "3471   VRPX   Virpax Pharmaceuticals Inc  생명과학 및 메디컬 리서치       562020\n",
       "3472  SPTKU   SportsTek Acquisition Corp          기타 금융업       556010\n",
       "\n",
       "[3473 rows x 4 columns]"
      ]
     },
     "execution_count": 5,
     "metadata": {},
     "output_type": "execute_result"
    }
   ],
   "source": [
    "nasdaq_df = fdr.StockListing(\"NASDAQ\")\n",
    "nasdaq_df"
   ]
  },
  {
   "cell_type": "code",
   "execution_count": 6,
   "id": "liquid-champagne",
   "metadata": {},
   "outputs": [],
   "source": [
    "target_price = 2"
   ]
  },
  {
   "cell_type": "code",
   "execution_count": 7,
   "id": "valid-swedish",
   "metadata": {},
   "outputs": [
    {
     "name": "stderr",
     "output_type": "stream",
     "text": [
      "1533it [07:56,  3.44it/s]"
     ]
    },
    {
     "name": "stdout",
     "output_type": "stream",
     "text": [
      "- INAQ: No data found for this date range, symbol may be delisted\n"
     ]
    },
    {
     "name": "stderr",
     "output_type": "stream",
     "text": [
      "1669it [08:39,  2.97it/s]"
     ]
    },
    {
     "name": "stdout",
     "output_type": "stream",
     "text": [
      "- INAQU: No data found for this date range, symbol may be delisted\n"
     ]
    },
    {
     "name": "stderr",
     "output_type": "stream",
     "text": [
      "2370it [12:14,  3.56it/s]"
     ]
    },
    {
     "name": "stdout",
     "output_type": "stream",
     "text": [
      "- GWACU: No data found for this date range, symbol may be delisted\n"
     ]
    },
    {
     "name": "stderr",
     "output_type": "stream",
     "text": [
      "2888it [14:52,  3.49it/s]"
     ]
    },
    {
     "name": "stdout",
     "output_type": "stream",
     "text": [
      "- MCAC: No data found for this date range, symbol may be delisted\n"
     ]
    },
    {
     "name": "stderr",
     "output_type": "stream",
     "text": [
      "2974it [15:18,  3.29it/s]"
     ]
    },
    {
     "name": "stdout",
     "output_type": "stream",
     "text": [
      "- MCACU: No data found for this date range, symbol may be delisted\n"
     ]
    },
    {
     "name": "stderr",
     "output_type": "stream",
     "text": [
      "3456it [17:46,  3.42it/s]"
     ]
    },
    {
     "name": "stdout",
     "output_type": "stream",
     "text": [
      "- MAXNV: No data found, symbol may be delisted\n"
     ]
    },
    {
     "name": "stderr",
     "output_type": "stream",
     "text": [
      "\r",
      "3457it [17:46,  3.53it/s]"
     ]
    },
    {
     "name": "stdout",
     "output_type": "stream",
     "text": [
      "- SPWRV: No data found, symbol may be delisted\n"
     ]
    },
    {
     "name": "stderr",
     "output_type": "stream",
     "text": [
      "\r",
      "3458it [17:47,  3.58it/s]"
     ]
    },
    {
     "name": "stdout",
     "output_type": "stream",
     "text": [
      "- MCACR: No data found for this date range, symbol may be delisted\n"
     ]
    },
    {
     "name": "stderr",
     "output_type": "stream",
     "text": [
      "\r",
      "3459it [17:47,  3.64it/s]"
     ]
    },
    {
     "name": "stdout",
     "output_type": "stream",
     "text": [
      "- SPEL: No data found, symbol may be delisted\n"
     ]
    },
    {
     "name": "stderr",
     "output_type": "stream",
     "text": [
      "3461it [17:48,  3.53it/s]"
     ]
    },
    {
     "name": "stdout",
     "output_type": "stream",
     "text": [
      "- MVNR: No data found for this date range, symbol may be delisted\n"
     ]
    },
    {
     "name": "stderr",
     "output_type": "stream",
     "text": [
      "\r",
      "3462it [17:48,  3.43it/s]"
     ]
    },
    {
     "name": "stdout",
     "output_type": "stream",
     "text": [
      "- CMPX: No data found, symbol may be delisted\n"
     ]
    },
    {
     "name": "stderr",
     "output_type": "stream",
     "text": [
      "3473it [17:51,  3.24it/s]\n"
     ]
    }
   ],
   "source": [
    "penny_stock = get_pennystock_list(target_price, start_date, end_date)"
   ]
  },
  {
   "cell_type": "code",
   "execution_count": 8,
   "id": "general-rider",
   "metadata": {},
   "outputs": [],
   "source": [
    "result = nasdaq_df[nasdaq_df['Symbol'].isin(penny_stock)].reset_index(drop=True)"
   ]
  },
  {
   "cell_type": "code",
   "execution_count": 9,
   "id": "union-michael",
   "metadata": {},
   "outputs": [],
   "source": [
    "dict_ = {}\n",
    "for key in penny_stock.keys():\n",
    "    dict_.update({key : np.mean(list(penny_stock[key]['Close'].values()))})\n",
    "\n",
    "result['Avg Closed'] = list(dict_.values())"
   ]
  },
  {
   "cell_type": "code",
   "execution_count": 10,
   "id": "extraordinary-quarterly",
   "metadata": {},
   "outputs": [
    {
     "data": {
      "text/html": [
       "<div>\n",
       "<style scoped>\n",
       "    .dataframe tbody tr th:only-of-type {\n",
       "        vertical-align: middle;\n",
       "    }\n",
       "\n",
       "    .dataframe tbody tr th {\n",
       "        vertical-align: top;\n",
       "    }\n",
       "\n",
       "    .dataframe thead th {\n",
       "        text-align: right;\n",
       "    }\n",
       "</style>\n",
       "<table border=\"1\" class=\"dataframe\">\n",
       "  <thead>\n",
       "    <tr style=\"text-align: right;\">\n",
       "      <th></th>\n",
       "      <th>Symbol</th>\n",
       "      <th>Name</th>\n",
       "      <th>Industry</th>\n",
       "      <th>IndustryCode</th>\n",
       "      <th>Avg Closed</th>\n",
       "    </tr>\n",
       "  </thead>\n",
       "  <tbody>\n",
       "    <tr>\n",
       "      <th>0</th>\n",
       "      <td>SNDL</td>\n",
       "      <td>Sundial Growers Inc</td>\n",
       "      <td>제약</td>\n",
       "      <td>562010</td>\n",
       "      <td>1.996667</td>\n",
       "    </tr>\n",
       "    <tr>\n",
       "      <th>1</th>\n",
       "      <td>VEON</td>\n",
       "      <td>VEON Ltd ADR</td>\n",
       "      <td>통신 서비스</td>\n",
       "      <td>574010</td>\n",
       "      <td>1.793333</td>\n",
       "    </tr>\n",
       "    <tr>\n",
       "      <th>2</th>\n",
       "      <td>TXMD</td>\n",
       "      <td>TherapeuticsMD Inc</td>\n",
       "      <td>제약</td>\n",
       "      <td>562010</td>\n",
       "      <td>1.873333</td>\n",
       "    </tr>\n",
       "    <tr>\n",
       "      <th>3</th>\n",
       "      <td>CTRM</td>\n",
       "      <td>Castor Maritime Inc</td>\n",
       "      <td>화물 및 물류 서비스</td>\n",
       "      <td>524050</td>\n",
       "      <td>1.343333</td>\n",
       "    </tr>\n",
       "    <tr>\n",
       "      <th>4</th>\n",
       "      <td>NAKD</td>\n",
       "      <td>Naked Brand Group Ltd</td>\n",
       "      <td>섬유 및 의류</td>\n",
       "      <td>532020</td>\n",
       "      <td>1.360000</td>\n",
       "    </tr>\n",
       "    <tr>\n",
       "      <th>...</th>\n",
       "      <td>...</td>\n",
       "      <td>...</td>\n",
       "      <td>...</td>\n",
       "      <td>...</td>\n",
       "      <td>...</td>\n",
       "    </tr>\n",
       "    <tr>\n",
       "      <th>89</th>\n",
       "      <td>ZGYHR</td>\n",
       "      <td>Yunhong International Rights</td>\n",
       "      <td>기타 금융업</td>\n",
       "      <td>556010</td>\n",
       "      <td>0.670000</td>\n",
       "    </tr>\n",
       "    <tr>\n",
       "      <th>90</th>\n",
       "      <td>ADOCR</td>\n",
       "      <td>Edoc Acquisition Corp</td>\n",
       "      <td>기타 금융업</td>\n",
       "      <td>556010</td>\n",
       "      <td>0.580000</td>\n",
       "    </tr>\n",
       "    <tr>\n",
       "      <th>91</th>\n",
       "      <td>BREZR</td>\n",
       "      <td>Breeze Holdings Acquisition Corp</td>\n",
       "      <td>기타 금융업</td>\n",
       "      <td>556010</td>\n",
       "      <td>0.328000</td>\n",
       "    </tr>\n",
       "    <tr>\n",
       "      <th>92</th>\n",
       "      <td>BENER</td>\n",
       "      <td>Benessere Capital Acquisition Corp</td>\n",
       "      <td>기타 금융업</td>\n",
       "      <td>556010</td>\n",
       "      <td>0.409000</td>\n",
       "    </tr>\n",
       "    <tr>\n",
       "      <th>93</th>\n",
       "      <td>VTAQR</td>\n",
       "      <td>Ventoux CCM Acquisition Corp</td>\n",
       "      <td>기타 금융업</td>\n",
       "      <td>556010</td>\n",
       "      <td>0.402000</td>\n",
       "    </tr>\n",
       "  </tbody>\n",
       "</table>\n",
       "<p>94 rows × 5 columns</p>\n",
       "</div>"
      ],
      "text/plain": [
       "   Symbol                                Name     Industry IndustryCode  \\\n",
       "0    SNDL                 Sundial Growers Inc           제약       562010   \n",
       "1    VEON                        VEON Ltd ADR       통신 서비스       574010   \n",
       "2    TXMD                  TherapeuticsMD Inc           제약       562010   \n",
       "3    CTRM                 Castor Maritime Inc  화물 및 물류 서비스       524050   \n",
       "4    NAKD               Naked Brand Group Ltd      섬유 및 의류       532020   \n",
       "..    ...                                 ...          ...          ...   \n",
       "89  ZGYHR        Yunhong International Rights       기타 금융업       556010   \n",
       "90  ADOCR               Edoc Acquisition Corp       기타 금융업       556010   \n",
       "91  BREZR    Breeze Holdings Acquisition Corp       기타 금융업       556010   \n",
       "92  BENER  Benessere Capital Acquisition Corp       기타 금융업       556010   \n",
       "93  VTAQR        Ventoux CCM Acquisition Corp       기타 금융업       556010   \n",
       "\n",
       "    Avg Closed  \n",
       "0     1.996667  \n",
       "1     1.793333  \n",
       "2     1.873333  \n",
       "3     1.343333  \n",
       "4     1.360000  \n",
       "..         ...  \n",
       "89    0.670000  \n",
       "90    0.580000  \n",
       "91    0.328000  \n",
       "92    0.409000  \n",
       "93    0.402000  \n",
       "\n",
       "[94 rows x 5 columns]"
      ]
     },
     "execution_count": 10,
     "metadata": {},
     "output_type": "execute_result"
    }
   ],
   "source": [
    "result"
   ]
  },
  {
   "cell_type": "code",
   "execution_count": 11,
   "id": "happy-power",
   "metadata": {},
   "outputs": [],
   "source": [
    "result.to_excel('pennystock.xlsx', index=False)"
   ]
  }
 ],
 "metadata": {
  "kernelspec": {
   "display_name": "Python 3",
   "language": "python",
   "name": "python3"
  },
  "language_info": {
   "codemirror_mode": {
    "name": "ipython",
    "version": 3
   },
   "file_extension": ".py",
   "mimetype": "text/x-python",
   "name": "python",
   "nbconvert_exporter": "python",
   "pygments_lexer": "ipython3",
   "version": "3.8.6"
  }
 },
 "nbformat": 4,
 "nbformat_minor": 5
}
