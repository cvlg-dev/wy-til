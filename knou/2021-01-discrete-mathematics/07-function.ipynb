{
 "cells": [
  {
   "cell_type": "markdown",
   "id": "joint-produce",
   "metadata": {},
   "source": [
    "# 7.1. 함수의 기본사항"
   ]
  },
  {
   "cell_type": "markdown",
   "id": "plastic-rocket",
   "metadata": {},
   "source": [
    "# 7.2. 전사함수, 단사함수, 역함수"
   ]
  },
  {
   "cell_type": "markdown",
   "id": "mineral-fantasy",
   "metadata": {},
   "source": [
    "# 7.3. 함수의 종류"
   ]
  }
 ],
 "metadata": {
  "kernelspec": {
   "display_name": "Python 3",
   "language": "python",
   "name": "python3"
  },
  "language_info": {
   "codemirror_mode": {
    "name": "ipython",
    "version": 3
   },
   "file_extension": ".py",
   "mimetype": "text/x-python",
   "name": "python",
   "nbconvert_exporter": "python",
   "pygments_lexer": "ipython3",
   "version": "3.8.6"
  }
 },
 "nbformat": 4,
 "nbformat_minor": 5
}
