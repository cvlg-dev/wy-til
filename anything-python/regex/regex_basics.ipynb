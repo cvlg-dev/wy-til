{
 "cells": [
  {
   "cell_type": "markdown",
   "id": "human-detector",
   "metadata": {},
   "source": [
    "# 1. 정규표현식이란\n",
    "\n",
    "Regular Expression (또는 Regex)\n",
    "\n",
    "> 특정한 규칙을 가진 문자열의 집합을 표현하는 데 사용하는 형식 언어. (Wikipedia)"
   ]
  },
  {
   "cell_type": "markdown",
   "id": "descending-carpet",
   "metadata": {},
   "source": [
    "# 2. 정규표현식의 구조\n",
    "\n",
    "`/PATTERN/FLAG`\n",
    "\n",
    "- `/` : \n",
    "    - 정규표현식임을 알리는 기호.\n",
    "    - 정규표현식의 시작과 끝에 위치함.\n",
    "- `PATTERN`\n",
    "    - 정규표현식으로 찾고자하는 문자열의 패턴\n",
    "- `FLAG`\n",
    "    - 옵션"
   ]
  },
  {
   "cell_type": "markdown",
   "id": "opened-scoop",
   "metadata": {},
   "source": [
    "# 3. 정규표현식, 표현의 종류\n",
    "\n",
    "## 3.1. 그룹과 범위 group and ranges\n",
    "\n",
    "- `|` \n",
    "    - OR, 또는\n",
    "- `()`\n",
    "    - 그룹 지정\n",
    "    - 복수의 패턴을 하나의 그룹으로 묶어 찾는 식으로 사용할 수 있음\n",
    "    - 예시)\n",
    "        1. gray 또는 grey 를 찾고자 할 때\n",
    "            - `/gr(a|e)y/gm`\n",
    "        2. URL 패턴을 찾고자 할 때\n",
    "            - `/(http|https):// ... 이하 생략`\n",
    "        3. 한번에 패턴을 검색하되, 다른 별개의 그룹으로 찾고자 할 때\n",
    "            - `(Hi|Hello)|(AND)`\n",
    "        4. 그룹을 지정하고 싶지 않을 때\n",
    "- `(?:)` \n",
    "    - 그룹을 지정하지 않음\n",
    "    - 예시)\n",
    "        1. grey 또는 gray를 찾되, 그룹으로 지정하지않음\n",
    "            - `(?:grey|gray)`\n",
    "- `[]`\n",
    "    - 대괄호의 모든 문자열에 대해서, 하나라도 만족하는 문자열\n",
    "    - 예시)\n",
    "        1. gr로 시작하는 모든 알파벳 3개로 구성된 문자열\n",
    "            - `gr[a-zA-Z0-9]`\n",
    "        2. gr과 y사이에 a, e, d 중 하나를 충족하는 문자열\n",
    "            - `gr[aed]y`\n",
    "- `[^]`\n",
    "    - 부정 문자열. 괄호 안의 어떤 문자열을 제외한 문자열\n",
    "    - 예시)\n",
    "        1. 대소문자 알파벳, 숫자, 공백이 아닌 모든 문자열\n",
    "            - `[^a-zA-Z0-9 ]`\n",
    "\n",
    "\n",
    "## 3.2. 수량 quantifier\n",
    "\n",
    "- `?`\n",
    "    - 없거나, 있거나 (zero or one)\n",
    "- `*`\n",
    "    - 없거나, 있거나, 많거나 (zero or more)\n",
    "- `+`\n",
    "    - 하나 또는 많이 (one or more)\n",
    "- `{n}`\n",
    "    - n번 반복\n",
    "- `{n,}` \n",
    "    - 최소 n번 반복\n",
    "- `{,m}` \n",
    "    - 최대 m번 반복\n",
    "- `{n, m}` \n",
    "    - 최소 n번, 최대 m번 반복\n",
    "\n",
    "## 3.3. 경계 boundary-type\n",
    "\n",
    "- `\\b`\n",
    "    - 단어의 경계\n",
    "    - 문자열의 앞 또는 뒤에서 쓰이는 문자열만 찾음\n",
    "- `\\B`\n",
    "    - 단어의 경계가 아님\n",
    "- `^`\n",
    "    - 문장의 시작\n",
    "- `$`\n",
    "    - 문장의 끝\n",
    "\n",
    "## 3.4. 문자열 character classes\n",
    "\n",
    "- `\\`\n",
    "    - 특수 문자가 아닌 문자\n",
    "    - 예시)\n",
    "        - 정규표현의 `.`이 아닌 실제 문장에서 `.`을 찾고자 할 때\n",
    "            - `\\.`\n",
    "        - 정규표현식에서 그룹지정의 `()`가 아닌, 실제 텍스트에서 ()를 찾고자 할 때,\n",
    "            - `\\(\\)`\n",
    "- `.`\n",
    "    - 줄바꿈을 제외한 모든 문자\n",
    "- `\\d`\n",
    "    - 숫자\n",
    "- `\\D`\n",
    "    - 숫자 아님\n",
    "- `\\w`\n",
    "    - 문자열\n",
    "- `\\W`\n",
    "    - 문자열 아님\n",
    "- `\\s`\n",
    "    - 공백\n",
    "- `\\S`\n",
    "    - 공백 아님"
   ]
  },
  {
   "cell_type": "markdown",
   "id": "dressed-honor",
   "metadata": {},
   "source": [
    "# 4. 간단한 예제\n",
    "\n",
    "## 4.1. 전화번호 찾기\n",
    "\n",
    "- `\\d{2,3}[- .]\\d{3,4}[- .]\\d{4}`\n",
    "\n",
    "\n",
    "## 4.2. E-mail 찾기\n",
    "\n",
    "- `[\\S]+@[a-zA-Z0-9-]+\\.[a-z.]+`\n",
    "\n",
    "## 4.3. URL 찾기\n",
    "\n",
    "(Youtube 주소에서 default url을 제외한 영상 고유의 id찾기)\n",
    "\n",
    "- `(https?:\\/\\/)?(www\\.)?youtu\\.be\\/([a-zA-Z0-9-]+)`"
   ]
  },
  {
   "cell_type": "markdown",
   "id": "dimensional-front",
   "metadata": {},
   "source": [
    "# 5. 파이썬과 정규표현식\n",
    "\n",
    "\n",
    "## 5.1. 정규표현식 패키지 - `re` \n",
    "- 파이썬에 내장된 `re` 패키지를 사용하면 됨. [(문서)](https://docs.python.org/3/library/re.html)"
   ]
  },
  {
   "cell_type": "code",
   "execution_count": 1,
   "id": "instructional-idaho",
   "metadata": {},
   "outputs": [],
   "source": [
    "import re"
   ]
  },
  {
   "cell_type": "markdown",
   "id": "aging-rescue",
   "metadata": {},
   "source": [
    "## 5.2. 주요 기능"
   ]
  },
  {
   "cell_type": "markdown",
   "id": "outside-bicycle",
   "metadata": {},
   "source": [
    "### 5.2.1. 정규식 패턴 정의"
   ]
  },
  {
   "cell_type": "markdown",
   "id": "comparable-lawsuit",
   "metadata": {},
   "source": [
    "- `re.compile`\n",
    "    - 정규식 패턴을 직접 변수로 전달할 수도 있겠지만, `re.compile`을 통해 미리 컴파일하여 객체로 사용하는 것이 편함"
   ]
  },
  {
   "cell_type": "code",
   "execution_count": 2,
   "id": "quick-african",
   "metadata": {},
   "outputs": [
    {
     "name": "stdout",
     "output_type": "stream",
     "text": [
      "re.compile('[a-z]+')\n"
     ]
    }
   ],
   "source": [
    "pat = re.compile('[a-z]+')\n",
    "print(pat)"
   ]
  },
  {
   "cell_type": "markdown",
   "id": "voluntary-magic",
   "metadata": {},
   "source": [
    "### 5.2.2. 검색"
   ]
  },
  {
   "cell_type": "markdown",
   "id": "artificial-adjustment",
   "metadata": {},
   "source": [
    "- `.match`\n",
    "    - 문자열의 처음부터 정규식 패턴과 일치하는지 검색\n",
    "    - 묹자열의 처음부터 일치하지 않을 경우 검색되지 않음"
   ]
  },
  {
   "cell_type": "code",
   "execution_count": 3,
   "id": "competent-detection",
   "metadata": {},
   "outputs": [
    {
     "name": "stdout",
     "output_type": "stream",
     "text": [
      "<re.Match object; span=(0, 6), match='python'>\n"
     ]
    }
   ],
   "source": [
    "m = re.match(pat, \"python @789\")\n",
    "print(m)"
   ]
  },
  {
   "cell_type": "code",
   "execution_count": 4,
   "id": "touched-oakland",
   "metadata": {},
   "outputs": [
    {
     "name": "stdout",
     "output_type": "stream",
     "text": [
      "None\n"
     ]
    }
   ],
   "source": [
    "m = re.match(pat, \"#123 python @789\")\n",
    "print(m)"
   ]
  },
  {
   "cell_type": "markdown",
   "id": "vocal-funds",
   "metadata": {},
   "source": [
    "- `.search`\n",
    "    - 문자열 전체에 대해서 정규식 패턴과 일치하는 문자열 검색"
   ]
  },
  {
   "cell_type": "code",
   "execution_count": 5,
   "id": "familiar-profit",
   "metadata": {},
   "outputs": [
    {
     "name": "stdout",
     "output_type": "stream",
     "text": [
      "<re.Match object; span=(5, 11), match='python'>\n"
     ]
    }
   ],
   "source": [
    "m = re.search(pat, \"#123 python @789\")\n",
    "print(m)"
   ]
  },
  {
   "cell_type": "markdown",
   "id": "presidential-vessel",
   "metadata": {},
   "source": [
    "- `re.findall`\n",
    "    - 정규식 패턴과 매치되는 모든 부분 문자열(substring)을 리스트로 리턴"
   ]
  },
  {
   "cell_type": "code",
   "execution_count": 6,
   "id": "accompanied-pakistan",
   "metadata": {},
   "outputs": [
    {
     "name": "stdout",
     "output_type": "stream",
     "text": [
      "['python']\n"
     ]
    }
   ],
   "source": [
    "m = re.findall(pat, \"#123 python @789\")\n",
    "print(m)"
   ]
  },
  {
   "cell_type": "markdown",
   "id": "adverse-miller",
   "metadata": {},
   "source": [
    "- `re.finditer`\n",
    "    - 정규식 패턴과 매치되는 모든 부분 문자열을 iter 객체로 리턴"
   ]
  },
  {
   "cell_type": "code",
   "execution_count": 7,
   "id": "thick-romance",
   "metadata": {},
   "outputs": [
    {
     "name": "stdout",
     "output_type": "stream",
     "text": [
      "<re.Match object; span=(5, 11), match='python'>\n",
      "<re.Match object; span=(12, 22), match='pythonista'>\n",
      "<re.Match object; span=(24, 30), match='python'>\n"
     ]
    }
   ],
   "source": [
    "m = re.finditer(pat, \"#123 python pythonista, python @789\")\n",
    "for match in m:\n",
    "    print(match)"
   ]
  },
  {
   "cell_type": "markdown",
   "id": "intermediate-sector",
   "metadata": {},
   "source": [
    "- 검색 객체의 메서드\n",
    "    - `.group()` : 매치된 문자열 리턴\n",
    "    - `.start()` : 매치된 문자열의 시작 위치 리턴\n",
    "    - `.end()` : 매치된 문자열의 끝 위치 리턴\n",
    "    - `.span()` : 매치된 문자열의 (시작, 끝) 튜플 리턴"
   ]
  },
  {
   "cell_type": "code",
   "execution_count": 8,
   "id": "suitable-albuquerque",
   "metadata": {},
   "outputs": [
    {
     "name": "stdout",
     "output_type": "stream",
     "text": [
      "매치된 문자열 match : python\n",
      "매치된 문자열 start : 5\n",
      "매치된 문자열 end : 11\n",
      "매치된 문자열 span : (5, 11)\n",
      "----------------------------\n",
      "매치된 문자열 match : pythonista\n",
      "매치된 문자열 start : 12\n",
      "매치된 문자열 end : 22\n",
      "매치된 문자열 span : (12, 22)\n",
      "----------------------------\n",
      "매치된 문자열 match : python\n",
      "매치된 문자열 start : 24\n",
      "매치된 문자열 end : 30\n",
      "매치된 문자열 span : (24, 30)\n",
      "----------------------------\n"
     ]
    }
   ],
   "source": [
    "m = re.finditer(pat, \"#123 python pythonista, python @789\")\n",
    "for match in m:\n",
    "    print(\"매치된 문자열 match : {}\".format(match.group()))\n",
    "    print(\"매치된 문자열 start : {}\".format(match.start()))\n",
    "    print(\"매치된 문자열 end : {}\".format(match.end()))\n",
    "    print(\"매치된 문자열 span : {}\".format(match.span()))\n",
    "    print(\"----------------------------\")"
   ]
  },
  {
   "cell_type": "markdown",
   "id": "invalid-france",
   "metadata": {},
   "source": [
    "### 5.3. 문자열 변경"
   ]
  },
  {
   "cell_type": "markdown",
   "id": "every-procedure",
   "metadata": {},
   "source": [
    "- `re.sub(정규식패턴, 변경할문자열, 타겟문자열)`\n",
    "    - 문자열 바꾸기\n",
    "    - 파이썬에서 `.replace()`와 같은 역할을 함"
   ]
  },
  {
   "cell_type": "code",
   "execution_count": 9,
   "id": "everyday-bridges",
   "metadata": {},
   "outputs": [
    {
     "name": "stdout",
     "output_type": "stream",
     "text": [
      "#123 hello @789\n"
     ]
    }
   ],
   "source": [
    "m = re.sub(pat, \"hello\", \"#123 python @789\")\n",
    "print(m)"
   ]
  },
  {
   "cell_type": "markdown",
   "id": "previous-license",
   "metadata": {},
   "source": [
    "# Reference\n",
    "\n",
    "- [정규표현식 , 더이상 미루지 말자 (Youtube 영상)](https://youtu.be/t3M6toIflyQ)\n",
    "- [Programiz - Python Programming](https://www.programiz.com/python-programming/regex)\n",
    "- [정규 표현식에 대한 쉬운 설명](https://assaeunji.github.io/python/2021-04-16-regularexpression/)"
   ]
  }
 ],
 "metadata": {
  "kernelspec": {
   "display_name": "Python 3",
   "language": "python",
   "name": "python3"
  },
  "language_info": {
   "codemirror_mode": {
    "name": "ipython",
    "version": 3
   },
   "file_extension": ".py",
   "mimetype": "text/x-python",
   "name": "python",
   "nbconvert_exporter": "python",
   "pygments_lexer": "ipython3",
   "version": "3.8.6"
  }
 },
 "nbformat": 4,
 "nbformat_minor": 5
}
